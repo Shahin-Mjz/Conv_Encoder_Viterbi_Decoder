{
 "cells": [
  {
   "cell_type": "markdown",
   "id": "3018071d-949a-4e48-b612-b0877e614c2a",
   "metadata": {},
   "source": [
    "$\\newline$\n",
    "$\\newline$\n",
    "$\\newline$\n",
    "\n",
    "\n",
    "$${\\large{\\color{black}{\\bf{\\text{Implementation of Systematic Feedforward Coder for Convolutional Code (2, 1, 3) and Decoder}}}}}$$\n",
    "\n",
    "$${\\large{\\color{black}{\\text{Based on }}\\color{blue}{\\underline{\\text{Hard Decision Viterbi Algorithm (HDVA)}}}}}$$\n",
    "$\\newline$\n",
    "$\\newline$\n",
    "$\\newline$"
   ]
  },
  {
   "cell_type": "code",
   "execution_count": 1,
   "id": "90c7f7ca-ff84-43e4-8cdb-5be640fecc2b",
   "metadata": {},
   "outputs": [],
   "source": [
    "import numpy as np\n",
    "import networkx as nx\n",
    "from time import time\n",
    "import itertools as it\n",
    "from termcolor import colored\n",
    "import matplotlib.pyplot as plt\n",
    "from sk_dsp_comm import fec_conv as fec"
   ]
  },
  {
   "cell_type": "markdown",
   "id": "7c7d42de-a080-4150-a9c6-1a60023821b1",
   "metadata": {},
   "source": [
    "$\\newline$\n",
    "$\\newline$\n",
    "\n",
    "\n",
    "#### ${\\large{\\bf{}\\;\\;\\color{purple}{\\bf{{\\text{Implementation of }\\underline{\\text{Systematic Feedforward Encoder}}}:}}}}$\n",
    "\n",
    "\n",
    "\n",
    "\n",
    "$\\newline$\n",
    "$\\newline$"
   ]
  },
  {
   "cell_type": "markdown",
   "id": "21b78122-6b13-4289-8700-266e84c30f1d",
   "metadata": {},
   "source": [
    "$\\newline$\n",
    "$\\newline$\n",
    "\n",
    "\n",
    "> <span style='color: red'><b><font size=2>$\\color{red}{\\bf{\\text{Note: }}}$</font></b></span>\n",
    "\n",
    "\n",
    "$\\newline$\n",
    "$\\newline$\n",
    "- - - $\\color{black}{g^{(0)}\\;=\\;(1,\\;0,\\;0,\\;0)\\;,\\;g^{(1)}\\;=\\;(1,\\;1,\\;0,\\;1)}$\n",
    "   \n",
    "\n",
    "$\\newline$\n",
    "$\\newline$\n",
    "\n",
    "\n",
    "- - - $\\color{black}{\\text{For (2, 1, 3) systematic feedforward encoder we have:}}$\n",
    " \n",
    "$\\newline$\n",
    "$\\newline$\n",
    "\n",
    "- - - - $\\bf{G} = \\begin{pmatrix}11 & 01 & 00 & 01 & ... &\\\\00 & 11 & 01 & 00 & 01 & ... &\\\\00 & 00 & 11 & 01 & 00 & 01 & ... &\\\\00 & 00 & 00 & 11 & 01 & 00 & 01 & ... &\\\\ \\vdots & & & & \\ddots & & & \\vdots\\end{pmatrix}$\n",
    "\n",
    "\n",
    "\n",
    "$\\newline$\n",
    "$\\newline$\n",
    "- - - $\\text{We assume that }\\bf{{u}}\\text{ sequence has finite length h, then we will have:}$\n",
    "   \n",
    "\n",
    "$\\newline$\n",
    "$\\newline$\n",
    "$\\newline$\n",
    "$\\newline$\n",
    "$\\newline$\n",
    "$\\newline$\n",
    "- - - - $\\color{black}{{\\bf{v}}_{\\;1\\;\\times\\;{2(h + m)}}\\; = {\\bf{u}}_{\\;1\\;\\times\\;{h}}\\; \\times \\; {\\bf{G}}_{\\;1\\;\\times\\;{2(h + m)}}}$\n",
    "     \n",
    "\n",
    "\n",
    "      \n",
    "$\\newline$\n",
    "$\\newline$\n",
    "$\\newline$\n",
    "$\\newline$"
   ]
  },
  {
   "cell_type": "markdown",
   "id": "4745f226-e8a4-4a26-aaa5-9f7dbe8a7ba1",
   "metadata": {},
   "source": [
    "$\\newline$\n",
    "- [x] ${{\\bf{}\\;\\;\\color{green}{\\bf{\\text{Lookup Table that includes first row of G matrix:}}}}}$\n",
    "\n",
    "  \n",
    "$\\newline$"
   ]
  },
  {
   "cell_type": "code",
   "execution_count": 14,
   "id": "29505597-2734-4f5e-99cc-b81d3e1abb00",
   "metadata": {},
   "outputs": [],
   "source": [
    "LOOKUP_TABLE_Conv = {(2, 1, 3): {'g0': np.array([1, 0, 0, 0], dtype=np.int64), 'g1': np.array([1, 1, 0, 1], dtype=np.int64)}, \\\n",
    "                    (3, 1, 2): {'g0': np.array([1, 1, 0]), 'g1': np.array([1, 0, 1]), 'g2': np.array([1, 1, 1])}}"
   ]
  },
  {
   "cell_type": "markdown",
   "id": "1f13ea93-9545-476b-b105-4433ca78a5a2",
   "metadata": {},
   "source": [
    "$\\newline$\n",
    "- [x] ${{\\bf{}\\;\\;\\color{green}{\\bf{\\text{G Generation:}}}}}$\n",
    "\n",
    "  \n",
    "$\\newline$"
   ]
  },
  {
   "cell_type": "code",
   "execution_count": 3,
   "id": "2e8f2196-08ba-4a05-ba2a-488b7c50ed90",
   "metadata": {},
   "outputs": [],
   "source": [
    "def First_Row_Generator(g_dict: dict) -> np.ndarray:\n",
    "    num_memory_bits = len(g_dict[list(g_dict.keys())[0]]) - 1\n",
    "    g_list = []\n",
    "    for i in range(num_memory_bits + 1):\n",
    "        for key in g_dict.keys():\n",
    "            g = g_dict[key]\n",
    "            g_list.append(g[i])\n",
    "    g_ndarray = np.array(g_list, dtype=np.int64)\n",
    "    return g_ndarray"
   ]
  },
  {
   "cell_type": "code",
   "execution_count": 4,
   "id": "ec3c8bdc-8ff2-449d-b3ec-847437bf5c3d",
   "metadata": {},
   "outputs": [],
   "source": [
    "def G_Generator(conv_tuple: tuple, u_length: int) -> np.ndarray:\n",
    "    h, num_output_bits, m= u_length, conv_tuple[0], conv_tuple[2]\n",
    "    G = np.zeros((h, num_output_bits*(h + m)), dtype=np.int64)\n",
    "    g_dict = LOOKUP_TABLE_Conv[conv_tuple]\n",
    "    g = First_Row_Generator(g_dict)\n",
    "    count = 0\n",
    "    for i in range(len(G)):\n",
    "        G[i][count: len(g) + count] = g\n",
    "        count += num_output_bits\n",
    "    return G"
   ]
  },
  {
   "cell_type": "markdown",
   "id": "ecfa4902-1ee7-457e-a87b-db4290db0b38",
   "metadata": {},
   "source": [
    "$\\newline$\n",
    "- - $\\small{\\bf{}\\;\\;\\color{olive}{\\bf{\\text{Test:}}}}$\n",
    " \n",
    "\n",
    "$\\newline$"
   ]
  },
  {
   "cell_type": "code",
   "execution_count": 5,
   "id": "3070e765-7c75-4bac-a6f8-a138e40f949a",
   "metadata": {},
   "outputs": [
    {
     "name": "stdout",
     "output_type": "stream",
     "text": [
      "\n",
      "\u001b[1m\u001b[34mFor Systematic Feedforward Convolutional Code (2, 1, 3) when we have h = 5, G Matrix will be:\u001b[0m\n",
      "\n",
      "\u001b[1m\u001b[30mG =\u001b[0m \n",
      "[[1 1 0 1 0 0 0 1 0 0 0 0 0 0 0 0]\n",
      " [0 0 1 1 0 1 0 0 0 1 0 0 0 0 0 0]\n",
      " [0 0 0 0 1 1 0 1 0 0 0 1 0 0 0 0]\n",
      " [0 0 0 0 0 0 1 1 0 1 0 0 0 1 0 0]\n",
      " [0 0 0 0 0 0 0 0 1 1 0 1 0 0 0 1]]\n",
      "\n"
     ]
    }
   ],
   "source": [
    "h = 5\n",
    "G = G_Generator(conv_tuple=(2, 1, 3), u_length=h)\n",
    "print(f'\\n{colored(f\"For Systematic Feedforward Convolutional Code (2, 1, 3) when we have h = {h}, G Matrix will be:\", \"blue\", attrs=[\"bold\"])}\\n\\n{colored(\"G =\", \"black\", attrs=[\"bold\"])} \\n{G}\\n')"
   ]
  },
  {
   "cell_type": "markdown",
   "id": "bcdf1fad-315d-4e12-a0d0-c794217c8087",
   "metadata": {},
   "source": [
    "$\\newline$\n",
    "- [x] ${{\\bf{}\\;\\;\\color{green}{\\bf{\\text{u Sequence Generation:}}}}}$\n",
    "\n",
    "\n",
    "$\\newline$"
   ]
  },
  {
   "cell_type": "code",
   "execution_count": 6,
   "id": "5a194840-66c3-430d-96ba-ba7f83a4a998",
   "metadata": {},
   "outputs": [],
   "source": [
    "def u_seq_Generator(h: int) -> np.ndarray:\n",
    "    np.random.seed(0)\n",
    "    u = np.random.randint(low=0, high=2, size=(1, h), dtype=np.int64)\n",
    "    return u"
   ]
  },
  {
   "cell_type": "markdown",
   "id": "8367e8cc-46bb-425a-a0f1-9aece78550aa",
   "metadata": {},
   "source": [
    "$\\newline$\n",
    "- - $\\small{\\bf{}\\;\\;\\color{olive}{\\bf{\\text{Test:}}}}$\n",
    " \n",
    "\n",
    "$\\newline$"
   ]
  },
  {
   "cell_type": "code",
   "execution_count": 7,
   "id": "97f597e6-c028-48ae-a457-92456b75e642",
   "metadata": {},
   "outputs": [
    {
     "name": "stdout",
     "output_type": "stream",
     "text": [
      "\n",
      "\u001b[1m\u001b[34mFor h=5, u sequence that includes our messages will be: \u001b[0m\n",
      "\n",
      "\u001b[1m\u001b[30mu = \u001b[0m[0 1 1 0 1]\n",
      "\n"
     ]
    }
   ],
   "source": [
    "h = 5\n",
    "u_seq = u_seq_Generator(h=h)\n",
    "print(f'\\n{colored(f\"For h={h}, u sequence that includes our messages will be: \", \"blue\", attrs=[\"bold\"])}\\n\\n{colored(\"u = \", \"black\", attrs=[\"bold\"])}{u_seq[0]}\\n')"
   ]
  },
  {
   "cell_type": "markdown",
   "id": "e6e656ab-8b5e-4d0e-9604-e9c1ef2eba3b",
   "metadata": {},
   "source": [
    "$\\newline$\n",
    "- [x] ${{\\bf{}\\;\\;\\color{green}{\\bf{\\text{v Sequence Generation}}}}}$\n",
    "\n",
    "\n",
    "$\\newline$"
   ]
  },
  {
   "cell_type": "code",
   "execution_count": 8,
   "id": "b64f496a-ef8d-46a9-b235-6fcd24641c14",
   "metadata": {},
   "outputs": [],
   "source": [
    "def Coder(conv_tuple: tuple, u_seq) -> np.ndarray:\n",
    "    h = u_seq.shape[1]\n",
    "    G = G_Generator(conv_tuple=conv_tuple, u_length=h)\n",
    "    v_seq = (u_seq @ G) % 2\n",
    "    return v_seq"
   ]
  },
  {
   "cell_type": "markdown",
   "id": "c7f85ada-c439-4ea7-a78a-3069f11e84d9",
   "metadata": {},
   "source": [
    "$\\newline$\n",
    "- - $\\small{\\bf{}\\;\\;\\color{olive}{\\bf{\\text{Test:}}}}$\n",
    " \n",
    "\n",
    "$\\newline$"
   ]
  },
  {
   "cell_type": "code",
   "execution_count": 9,
   "id": "2d35ff1e-ecb9-4466-b538-767138c80304",
   "metadata": {},
   "outputs": [
    {
     "name": "stdout",
     "output_type": "stream",
     "text": [
      "\n",
      "\u001b[1m\u001b[34mFor Systematic feedforward convolutional code (2, 1, 3) v sequence that includes our codewords will be:\u001b[0m\n",
      "\n",
      "\u001b[1m\u001b[30mu = \u001b[0m[0 1 1 0 1]\n",
      "\n",
      "\u001b[1m\u001b[30mv = \u001b[0m[0 0 1 1 1 0 0 1 1 0 0 0 0 0 0 1]\n",
      "\n"
     ]
    }
   ],
   "source": [
    "conv_tuple = (2, 1, 3)\n",
    "v_seq = Coder(conv_tuple=(2, 1, 3), u_seq=u_seq)\n",
    "print(f'\\n{colored(f\"For Systematic feedforward convolutional code {conv_tuple} v sequence that includes our codewords will be:\", \"blue\", attrs=[\"bold\"])}\\\n",
    "\\n\\n{colored(\"u = \", \"black\", attrs=[\"bold\"])}{u_seq[0]}\\n\\n{colored(\"v = \", \"black\", attrs=[\"bold\"])}{v_seq[0]}\\n')"
   ]
  },
  {
   "cell_type": "markdown",
   "id": "ce5a92ef-e156-4820-b292-486f805117c8",
   "metadata": {},
   "source": [
    "$\\newline$\n",
    "$\\newline$\n",
    "\n",
    "\n",
    "#### ${\\large{\\bf{}\\;\\;\\color{purple}{\\bf{{\\text{Implementation of }\\underline{\\text{Viterbi Algorithm }}\\text{ as an Optimum Decoder:}}}}}}$\n",
    "\n",
    "\n",
    "\n",
    "\n",
    "$\\newline$\n",
    "$\\newline$"
   ]
  },
  {
   "cell_type": "markdown",
   "id": "7b911020-a63b-42eb-9b1b-868cd332fec9",
   "metadata": {},
   "source": [
    "$\\newline$\n",
    "- [x] ${{\\bf{}\\;\\;\\color{green}{\\bf{\\text{State Diagram Generation as a Dictionary Data Structure}}}}}$\n",
    "\n",
    "\n",
    "$\\newline$"
   ]
  },
  {
   "cell_type": "code",
   "execution_count": 10,
   "id": "59a90f80-8db6-4da9-8ed1-dee9d9939fbc",
   "metadata": {},
   "outputs": [],
   "source": [
    "def Next_State(current_state: int, num_memory_bits: int, input_bits: str) -> int:\n",
    "    k = len(input_bits)\n",
    "    current_state_binary = bin(current_state)[2:].zfill(num_memory_bits)\n",
    "    next_state = current_state << k\n",
    "    next_state_binary = bin(next_state)[2:].zfill(num_memory_bits)\n",
    "    next_state_binary = next_state_binary[-num_memory_bits: -k]\n",
    "    next_state_binary = next_state_binary + input_bits[-1::-1]\n",
    "    next_state = int(next_state_binary, 2)\n",
    "    return next_state"
   ]
  },
  {
   "cell_type": "code",
   "execution_count": 11,
   "id": "260b5e1b-9553-4c23-9d94-facf1e254089",
   "metadata": {},
   "outputs": [],
   "source": [
    "def Output_Generator(current_state: int, input_bit: str, num_output_bits: int, g_dict: dict) -> str:\n",
    "    m = len(g_dict['g0']) - 1\n",
    "    current_state_binary = bin(current_state)[2:].zfill(m)\n",
    "    output_bits_str = ''\n",
    "    for i in range(num_output_bits):\n",
    "        g = g_dict['g' + str(i)]\n",
    "        g0 = g[0]\n",
    "        g_rem = g[1:]\n",
    "        output = (int(input_bit, 2) * g0) % 2\n",
    "        for j in range(m):\n",
    "            output += (int(current_state_binary[m - j -1], 2) * g_rem[j]) % 2\n",
    "            output %= 2\n",
    "        output_bits_str += str(output)\n",
    "    return output_bits_str[::-1]"
   ]
  },
  {
   "cell_type": "code",
   "execution_count": 12,
   "id": "150a5fe6-4c93-4d45-bdab-fa8f749b60eb",
   "metadata": {},
   "outputs": [],
   "source": [
    "def State_Diagram_Generator(conv_tuple: tuple=(2, 1, 3)) -> dict:\n",
    "    num_output_bits, num_input_bits, num_memory_bits = conv_tuple\n",
    "    g_dict = LOOKUP_TABLE_Conv[conv_tuple]\n",
    "\n",
    "    num_states = 2 ** num_memory_bits\n",
    "    states_dict = {}\n",
    "    for current_state in range(num_states):\n",
    "        \n",
    "        transitions = {}\n",
    "        for input_bits in range(2 ** num_input_bits):\n",
    "            input_bits_binary_str = bin(input_bits)[2:].zfill(num_input_bits)\n",
    "            output_bits_binary_str = Output_Generator(current_state=current_state, input_bit=input_bits_binary_str, num_output_bits=num_output_bits, g_dict=g_dict)\n",
    "            next_state = Next_State(current_state=current_state, num_memory_bits=num_memory_bits, input_bits=input_bits_binary_str)\n",
    "            transitions[input_bits] = {'input_bits': input_bits_binary_str, 'output_bits': output_bits_binary_str, 'next_state': next_state}\n",
    "\n",
    "        states_dict[current_state] = transitions\n",
    "    return states_dict"
   ]
  },
  {
   "cell_type": "markdown",
   "id": "736e9324-47c1-489c-aa01-9fcb0f9b5590",
   "metadata": {},
   "source": [
    "$\\newline$\n",
    "- - $\\small{\\bf{}\\;\\;\\color{olive}{\\bf{\\text{Test:}}}}$\n",
    " \n",
    "\n",
    "$\\newline$"
   ]
  },
  {
   "cell_type": "code",
   "execution_count": 15,
   "id": "c603f2b6-ae95-4a8f-a36f-a877d221f46c",
   "metadata": {},
   "outputs": [
    {
     "name": "stdout",
     "output_type": "stream",
     "text": [
      "\n",
      "\u001b[1m\u001b[34mState Diagram as a Dictionary Data Structure for Covolutional Code (3, 1, 2):\u001b[0m\n",
      "\n",
      "{0: {0: {'input_bits': '0', 'output_bits': '000', 'next_state': 0}, 1: {'input_bits': '1', 'output_bits': '111', 'next_state': 1}}, 1: {0: {'input_bits': '0', 'output_bits': '101', 'next_state': 2}, 1: {'input_bits': '1', 'output_bits': '010', 'next_state': 3}}, 2: {0: {'input_bits': '0', 'output_bits': '110', 'next_state': 0}, 1: {'input_bits': '1', 'output_bits': '001', 'next_state': 1}}, 3: {0: {'input_bits': '0', 'output_bits': '011', 'next_state': 2}, 1: {'input_bits': '1', 'output_bits': '100', 'next_state': 3}}}\n",
      "\n"
     ]
    }
   ],
   "source": [
    "conv_tuple = (3, 1, 2)\n",
    "state_diagram_dict = State_Diagram_Generator(conv_tuple=conv_tuple)\n",
    "print(f'\\n{colored(f\"State Diagram as a Dictionary Data Structure for Covolutional Code {conv_tuple}:\", \"blue\", attrs=[\"bold\"])}\\n\\n{state_diagram_dict}\\n')"
   ]
  },
  {
   "cell_type": "markdown",
   "id": "5228cf1f-4396-4a18-985a-ac5007aac4d1",
   "metadata": {},
   "source": [
    "$\\newline$\n",
    "- [x] ${{\\bf{}\\;\\;\\color{green}{\\bf{\\text{State Diagram Showing}}}}}$\n",
    "\n",
    "\n",
    "$\\newline$"
   ]
  },
  {
   "cell_type": "code",
   "execution_count": 16,
   "id": "0e1d09dd-ffe3-4bbe-a7a2-df45e77e4bf9",
   "metadata": {},
   "outputs": [],
   "source": [
    "def Draw_State_Diagram(conv_tuple: tuple=(2, 1, 3)):\n",
    "    state_diagram_dict = State_Diagram_Generator(conv_tuple)\n",
    "    G = nx.DiGraph()\n",
    "\n",
    "    for state, transitions in state_diagram_dict.items():\n",
    "        for input_bit, next_state in transitions.items():\n",
    "            input_bits = next_state['input_bits']\n",
    "            output_bits = next_state['output_bits']\n",
    "            next_state_id = next_state['next_state']\n",
    "            label = f'{input_bits}/{output_bits}'\n",
    "            G.add_edge(state, next_state_id, label=label)\n",
    "\n",
    "    pos = nx.circular_layout(G)\n",
    "    plt.figure(figsize=(10, 5))\n",
    "    nx.draw(G, pos, with_labels=True, node_size=1000, node_color='lightblue', font_size=12, font_weight='bold')\n",
    "    edge_labels = nx.get_edge_attributes(G, 'label')\n",
    "    nx.draw_networkx_edge_labels(G, pos, edge_labels=edge_labels, font_color='black', font_size=10)\n",
    "    plt.title(f'\\nState Diagram for Convolutional Code {conv_tuple}\\n', fontsize=10, fontweight='bold')\n",
    "    plt.show()"
   ]
  },
  {
   "cell_type": "markdown",
   "id": "6db7d44d-9283-4086-b013-df2b94779520",
   "metadata": {},
   "source": [
    "$\\newline$\n",
    "- - $\\small{\\bf{}\\;\\;\\color{olive}{\\bf{\\text{Test:}}}}$\n",
    " \n",
    "\n",
    "$\\newline$"
   ]
  },
  {
   "cell_type": "code",
   "execution_count": 17,
   "id": "62003376-bd28-4be0-9cd3-f32b15d0c14c",
   "metadata": {},
   "outputs": [
    {
     "data": {
      "image/png": "[encoded data removed]",
      "text/plain": [
       "<Figure size 1000x500 with 1 Axes>"
      ]
     },
     "metadata": {},
     "output_type": "display_data"
    }
   ],
   "source": [
    "conv_tuple = (3, 1, 2)\n",
    "Draw_State_Diagram(conv_tuple=conv_tuple)"
   ]
  },
  {
   "cell_type": "markdown",
   "id": "3a418a0c-dfda-484f-8c74-7c6e5a8ed41f",
   "metadata": {},
   "source": [
    "$\\newline$\n",
    "- [x] ${{\\bf{}\\;\\;\\color{green}{\\bf{\\text{R (received sequence) Generation:}}}}}$\n",
    "\n",
    "\n",
    "$\\newline$"
   ]
  },
  {
   "cell_type": "code",
   "execution_count": 18,
   "id": "af15caa7-bf48-435d-8962-910493d15a47",
   "metadata": {},
   "outputs": [],
   "source": [
    "def R_Generator(v_seq: np.ndarray) -> np.ndarray:\n",
    "    l = v_seq.shape[1]\n",
    "    e = np.zeros(shape=(1, l), dtype=np.int64)\n",
    "    e[0, 0] = 1\n",
    "    R = (v_seq + e) % 2\n",
    "    return R"
   ]
  },
  {
   "cell_type": "markdown",
   "id": "9773840c-7860-4e95-9d97-8f0780f15a36",
   "metadata": {},
   "source": [
    "$\\newline$\n",
    "- - $\\small{\\bf{}\\;\\;\\color{olive}{\\bf{\\text{Test:}}}}$\n",
    " \n",
    "\n",
    "$\\newline$"
   ]
  },
  {
   "cell_type": "code",
   "execution_count": 81,
   "id": "2f6ee799-df45-43aa-a591-cf9d76aab7ce",
   "metadata": {},
   "outputs": [
    {
     "name": "stdout",
     "output_type": "stream",
     "text": [
      "\n",
      "\u001b[1m\u001b[34mWhen we have error pattern that has 1 in the first element of itself: \u001b[0m\n",
      "\n",
      "\u001b[1m\u001b[30mu = \u001b[0m[0 1 1 0 1]\n",
      "\n",
      "\u001b[1m\u001b[30mv = \u001b[0m[0 0 1 1 1 0 0 1 1 0 0 0 0 0 0 1]\n",
      "\n",
      "\u001b[1m\u001b[30mR = \u001b[0m[1 0 1 1 1 0 0 1 1 0 0 0 0 0 0 1]\n",
      "\n"
     ]
    }
   ],
   "source": [
    "R_seq = R_Generator(v_seq=v_seq)\n",
    "print(f'\\n{colored(\"When we have error pattern that has 1 in the first element of itself: \", \"blue\", attrs=[\"bold\"])}\\n\\n{colored(\"u = \", \"black\", attrs=[\"bold\"])}{u_seq[0]}\\n\\n\\\n",
    "{colored(\"v = \", \"black\", attrs=[\"bold\"])}{v_seq[0]}\\n\\n{colored(\"R = \", \"black\", attrs=[\"bold\"])}{R_seq[0]}\\n')"
   ]
  },
  {
   "cell_type": "markdown",
   "id": "b4626f8f-5897-4f8f-bd7b-17a5b14e2ede",
   "metadata": {},
   "source": [
    "$\\newline$\n",
    "- [x] ${{\\bf{}\\;\\;\\color{green}{\\bf{\\text{G Preparation:}}}}}$\n",
    "\n",
    "\n",
    "$\\newline$"
   ]
  },
  {
   "cell_type": "code",
   "execution_count": 20,
   "id": "9574c169-8f81-4d3c-9ea8-94fa1b670b41",
   "metadata": {},
   "outputs": [],
   "source": [
    "def Array_to_String(array: np.ndarray) -> str:\n",
    "    out_str = ''\n",
    "    for i in array:\n",
    "        out_str += str(i)\n",
    "\n",
    "    return out_str"
   ]
  },
  {
   "cell_type": "markdown",
   "id": "ef830281-0ebd-4038-8456-cc247fd9ff87",
   "metadata": {},
   "source": [
    "$\\newline$\n",
    "- - $\\small{\\bf{}\\;\\;\\color{olive}{\\bf{\\text{Test:}}}}$\n",
    " \n",
    "\n",
    "$\\newline$"
   ]
  },
  {
   "cell_type": "code",
   "execution_count": 76,
   "id": "03be545b-8dbd-40e0-9b40-05a2c079f867",
   "metadata": {},
   "outputs": [
    {
     "name": "stdout",
     "output_type": "stream",
     "text": [
      "\n",
      "\u001b[1m\u001b[34mG Matrix Preparation:\u001b[0m\n",
      "\n",
      "\n",
      "\u001b[1m\u001b[30mg0 = \u001b[0m[1 0 0 0]\n",
      "\n",
      "\u001b[1m\u001b[30mg0_str = \u001b[0m1000\n",
      "\n",
      "\n",
      "\u001b[1m\u001b[30mg1 = \u001b[0m[1 1 0 1]\n",
      "\n",
      "\u001b[1m\u001b[30mg1_str = \u001b[0m1101\n",
      "\n"
     ]
    }
   ],
   "source": [
    "conv_tuple = (2, 1, 3)\n",
    "g_dict = LOOKUP_TABLE_Conv[conv_tuple]\n",
    "g0, g1 = g_dict['g0'], g_dict['g1']\n",
    "g0_str, g1_str = Array_to_String(g0), Array_to_String(g1)\n",
    "print(f'\\n{colored(\"G Matrix Preparation:\", \"blue\", attrs=[\"bold\"])}\\n\\n\\n{colored(\"g0 = \", \"black\", attrs=[\"bold\"])}{g0}\\n\\n{colored(\"g0_str = \", \"black\", attrs=[\"bold\"])}{g0_str}\\n\\\n",
    "\\n\\n{colored(\"g1 = \", \"black\", attrs=[\"bold\"])}{g1}\\n\\n{colored(\"g1_str = \", \"black\", attrs=[\"bold\"])}{g1_str}\\n')"
   ]
  },
  {
   "cell_type": "markdown",
   "id": "b3449935-6b86-4b27-82ca-e87bbcc5835f",
   "metadata": {},
   "source": [
    "$\\newline$\n",
    "- [ ] ${{\\bf{}\\;\\;\\color{green}{\\bf{\\text{HDVA-Based Decoder:}}}}}$\n",
    "\n",
    "\n",
    "$\\newline$"
   ]
  },
  {
   "cell_type": "code",
   "execution_count": 77,
   "id": "d0898c69-f935-40ce-b34e-757509a65679",
   "metadata": {},
   "outputs": [],
   "source": [
    "def HDVA(R_seq: np.ndarray, conv_tuple) -> np.ndarray:\n",
    "    m = conv_tuple[2]\n",
    "    g_dict = LOOKUP_TABLE_Conv[conv_tuple]\n",
    "    G = []\n",
    "    for key in g_dict.keys():\n",
    "        g = g_dict[key]\n",
    "        g_str = Array_to_String(g)\n",
    "        G.append(g_str)\n",
    "    Conv_Coding = fec.FECConv(G=G, Depth=m+1) # Depth = m + 1\n",
    "    Decoded_seq = Conv_Coding.viterbi_decoder(x=R_seq, metric_type='hard')\n",
    "    Decoded_seq = Decoded_seq.astype(int)\n",
    "    return Decoded_seq"
   ]
  },
  {
   "cell_type": "markdown",
   "id": "2f679ac3-7a2b-461b-be26-66ecc0a02d80",
   "metadata": {},
   "source": [
    "$\\newline$\n",
    "- - $\\small{\\bf{}\\;\\;\\color{olive}{\\bf{\\text{Test:}}}}$\n",
    " \n",
    "\n",
    "$\\newline$"
   ]
  },
  {
   "cell_type": "code",
   "execution_count": 78,
   "id": "74fee831-844a-45d3-b59a-d7b5426cbbf5",
   "metadata": {},
   "outputs": [
    {
     "name": "stdout",
     "output_type": "stream",
     "text": [
      "\n",
      "\u001b[1m\u001b[34mFor estimated sequence we will have:\u001b[0m\n",
      "\n",
      "\u001b[1m\u001b[30mu-hat = \u001b[0m[1 1 1 0 1]\n",
      "\n",
      "\u001b[1m\u001b[30mu = \u001b[0m[0 1 1 0 1]\n",
      "\n",
      "\n",
      "\u001b[1m\u001b[34mWhen we have:\u001b[0m\n",
      "\n",
      "\u001b[1m\u001b[30mR = \u001b[0m[1 0 1 1 1 0 0 1 1 0 0 0 0 0 0 1]\n",
      "\n",
      "\u001b[1m\u001b[30mv = \u001b[0m[0 0 1 1 1 0 0 1 1 0 0 0 0 0 0 1]\n",
      "\n"
     ]
    }
   ],
   "source": [
    "u_hat_seq = HDVA(R_seq=R_seq[0], conv_tuple=(2, 1, 3))\n",
    "print(f'\\n{colored(\"For estimated sequence we will have:\", \"blue\", attrs=[\"bold\"])}\\n\\n{colored(\"u-hat = \", \"black\", attrs=[\"bold\"])}{u_hat_seq}\\n\\n{colored(\"u = \", \"black\", attrs=[\"bold\"])}{u_seq[0]}\\n')\n",
    "print(f'\\n{colored(\"When we have:\", \"blue\", attrs=[\"bold\"])}\\n\\n{colored(\"R = \", \"black\", attrs=[\"bold\"])}{R_seq[0]}\\n\\n{colored(\"v = \", \"black\", attrs=[\"bold\"])}{v_seq[0]}\\n')"
   ]
  },
  {
   "cell_type": "markdown",
   "id": "a7e97d9b-0e01-416d-aedb-ddd799fa24a6",
   "metadata": {},
   "source": [
    "$\\newline$\n",
    "$\\newline$\n",
    "$\\newline$\n",
    "\n",
    "\n",
    "$\\large{\\bf{\\;\\;\\color{purple}{\\bf{{\\text{Conclusion:}}}}}}$\n",
    "\n",
    "\n",
    "$\\newline$\n",
    "$\\newline$\n",
    "- ${{\\color{black}{\\text{As we saw for the error pattern that has 1 in the first element of itself, the Viterbi Algorithm}}}}$\n",
    "  ${\\color{black}{\\text{ does decoding as correctly except in the first element of the message sequence.}}}$\n",
    "\n",
    "\n",
    "$\\newline$\n",
    "$\\newline$\n",
    "$\\newline$"
   ]
  },
  {
   "cell_type": "markdown",
   "id": "2ed67fc2-e5a2-4c6f-9f1f-54227b8e376a",
   "metadata": {},
   "source": [
    "$\\newline$\n",
    "$\\newline$\n",
    "\n",
    "#### <a name=''>${\\large{\\bf{}\\;\\;\\color{blue}{\\bf{{\\text{References:}}}}}}$</a>\n",
    "\n",
    "\n",
    "$\\newline$\n",
    "$\\newline$\n",
    "\n",
    "- <a name=''>[${{\\bf{}\\;\\;\\color{blue}{\\bf{\\underline{\\text{Viterbi Decoder}}}}}}$](https://scikit-dsp-comm.readthedocs.io/en/latest/fec_conv.html#sk_dsp_comm.fec_conv.FECConv.viterbi_decoder)</a>\n",
    "\n",
    "\n",
    "$\\newline$\n",
    "$\\newline$\n",
    "\n",
    "\n",
    "- <a name=''>[${{\\bf{}\\;\\;\\color{blue}{\\bf{\\underline{\\text{Installation}}}}}}$](https://pypi.org/project/scikit-dsp-comm/)</a>\n",
    "\n",
    "\n",
    "$\\newline$\n",
    "$\\newline$"
   ]
  }
 ],
 "metadata": {
  "kernelspec": {
   "display_name": "Python 3 (ipykernel)",
   "language": "python",
   "name": "python3"
  },
  "language_info": {
   "codemirror_mode": {
    "name": "ipython",
    "version": 3
   },
   "file_extension": ".py",
   "mimetype": "text/x-python",
   "name": "python",
   "nbconvert_exporter": "python",
   "pygments_lexer": "ipython3",
   "version": "3.11.4"
  }
 },
 "nbformat": 4,
 "nbformat_minor": 5
}
